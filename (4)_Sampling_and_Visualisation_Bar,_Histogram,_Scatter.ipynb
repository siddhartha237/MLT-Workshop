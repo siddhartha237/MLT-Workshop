{
  "nbformat": 4,
  "nbformat_minor": 0,
  "metadata": {
    "colab": {
      "provenance": [],
      "include_colab_link": true
    },
    "kernelspec": {
      "name": "python3",
      "display_name": "Python 3"
    },
    "language_info": {
      "name": "python"
    }
  },
  "cells": [
    {
      "cell_type": "markdown",
      "metadata": {
        "id": "view-in-github",
        "colab_type": "text"
      },
      "source": [
        "<a href=\"https://colab.research.google.com/github/siddhartha237/MLT-Workshop/blob/main/(4)_Sampling_and_Visualisation_Bar%2C_Histogram%2C_Scatter.ipynb\" target=\"_parent\"><img src=\"https://colab.research.google.com/assets/colab-badge.svg\" alt=\"Open In Colab\"/></a>"
      ]
    },
    {
      "cell_type": "markdown",
      "source": [
        "# Sampling from Distributions, Bar Plots, Histograms and Scatter plots"
      ],
      "metadata": {
        "id": "QM2BAmxAaWpZ"
      }
    },
    {
      "cell_type": "markdown",
      "source": [
        "## Import and Settings\n",
        "\n",
        "We will import `NumPy` and `matplotlib`. In addition, we will also start with some customised layout for the plot."
      ],
      "metadata": {
        "id": "wVwN9M-ZaaV1"
      }
    },
    {
      "cell_type": "code",
      "source": [
        "import numpy as np\n",
        "import matplotlib.pyplot as plt"
      ],
      "metadata": {
        "id": "mT4Fnwyvan_v"
      },
      "execution_count": null,
      "outputs": []
    },
    {
      "cell_type": "markdown",
      "source": [
        "## Sampling and Plotting\n",
        "\n",
        "`NumPy` provides a utility to generate pseudo-random numbers. We shall try to sample points from various distributions. Once we have a sample, we can then represent it pictorially using suitable plots."
      ],
      "metadata": {
        "id": "9yBRSJpe1TaM"
      }
    },
    {
      "cell_type": "code",
      "source": [
        "rng = np.random.default_rng(seed = 42)"
      ],
      "metadata": {
        "id": "kpBYkuxLYCDv"
      },
      "execution_count": null,
      "outputs": []
    },
    {
      "cell_type": "markdown",
      "source": [
        "### Sampling: Bernoulli\n",
        "\n",
        "Let us generate a sample of $1000$ points from the $\\text{Br}(0.7)$.\n",
        "\n",
        "In `NumPy`:"
      ],
      "metadata": {
        "id": "lVd75olS4KnQ"
      }
    },
    {
      "cell_type": "code",
      "source": [
        "X = rng.choice([0, 1], p = [0.3, 0.7], size = 1000)\n",
        "X.shape"
      ],
      "metadata": {
        "id": "CYVFKEZinx-P",
        "colab": {
          "base_uri": "https://localhost:8080/"
        },
        "outputId": "4e357c17-58ee-42f7-c49a-870a41a00ff2"
      },
      "execution_count": null,
      "outputs": [
        {
          "output_type": "execute_result",
          "data": {
            "text/plain": [
              "(1000,)"
            ]
          },
          "metadata": {},
          "execution_count": 37
        }
      ]
    },
    {
      "cell_type": "markdown",
      "source": [
        "### Plotting: Bar plot\n",
        "\n",
        "Let us visualise the sample using a bar plot. For this, we first need the height of the bars. For now, use the method given below. This will become clear in subsequent colabs."
      ],
      "metadata": {
        "id": "v2sX5_B15Ncl"
      }
    },
    {
      "cell_type": "code",
      "source": [
        "zeros = ones = 0\n",
        "for i in range(X.shape[0]):\n",
        "    if X[i] == 1:\n",
        "        ones += 1\n",
        "    else:\n",
        "        zeros += 1\n",
        "zeros, ones"
      ],
      "metadata": {
        "id": "p8OcBjwY5ZE3",
        "colab": {
          "base_uri": "https://localhost:8080/"
        },
        "outputId": "b3083129-9903-4504-b1fa-7524ffe53bff"
      },
      "execution_count": null,
      "outputs": [
        {
          "output_type": "execute_result",
          "data": {
            "text/plain": [
              "(290, 710)"
            ]
          },
          "metadata": {},
          "execution_count": 38
        }
      ]
    },
    {
      "cell_type": "code",
      "source": [
        "plt.bar([0, 1], [zeros, ones])\n",
        "plt.xticks([0, 1]);"
      ],
      "metadata": {
        "id": "OS09O_6FfyLW",
        "colab": {
          "base_uri": "https://localhost:8080/",
          "height": 430
        },
        "outputId": "a46fa1df-3a99-46b6-9c6e-3df6a0cce2b1"
      },
      "execution_count": null,
      "outputs": [
        {
          "output_type": "display_data",
          "data": {
            "text/plain": [
              "<Figure size 640x480 with 1 Axes>"
            ],
            "image/png": "[encoded data removed]"
          },
          "metadata": {}
        }
      ]
    },
    {
      "cell_type": "markdown",
      "source": [
        "### Sampling: Gaussian\n",
        "\n",
        "We now generate a sample of $10,000$ points from $\\mathcal{N}(1, 4)$. Recall that $\\mu = 1$ and $\\sigma^2 = 4$."
      ],
      "metadata": {
        "id": "H5zt6NetMe6E"
      }
    },
    {
      "cell_type": "code",
      "source": [
        "X = rng.normal(1, 2, size = 10_000)\n",
        "X.shape"
      ],
      "metadata": {
        "id": "gIj_MLI2MoPH",
        "colab": {
          "base_uri": "https://localhost:8080/"
        },
        "outputId": "7689025f-0696-41a5-8967-7a10a45424dd"
      },
      "execution_count": null,
      "outputs": [
        {
          "output_type": "execute_result",
          "data": {
            "text/plain": [
              "(10000,)"
            ]
          },
          "metadata": {},
          "execution_count": 48
        }
      ]
    },
    {
      "cell_type": "markdown",
      "source": [
        "### Plotting: Histogram\n",
        "\n",
        "We can now visualise the sample using a histogram."
      ],
      "metadata": {
        "id": "J7LkwESeOB2I"
      }
    },
    {
      "cell_type": "code",
      "source": [
        "plt.hist(X, bins = 10, edgecolor = 'black');"
      ],
      "metadata": {
        "id": "-7YqSIyCOGNp",
        "colab": {
          "base_uri": "https://localhost:8080/",
          "height": 430
        },
        "outputId": "5395e338-14f3-4eb3-a63a-07fed1cb0241"
      },
      "execution_count": null,
      "outputs": [
        {
          "output_type": "display_data",
          "data": {
            "text/plain": [
              "<Figure size 640x480 with 1 Axes>"
            ],
            "image/png": "[encoded data removed]"
          },
          "metadata": {}
        }
      ]
    },
    {
      "cell_type": "markdown",
      "source": [
        "### Sampling: Bivariate Gaussian\n",
        "\n",
        "Sample 1000 points from the following Bivariate Gaussian:\n",
        "\n",
        "$$\n",
        "\\mathcal{N} \\left( \\begin{bmatrix}1 \\\\ 2\\end{bmatrix}, \\begin{bmatrix}1 & 0\\\\0 & 5\\end{bmatrix} \\right)\n",
        "$$"
      ],
      "metadata": {
        "id": "ZOF8A9BvOpLa"
      }
    },
    {
      "cell_type": "code",
      "source": [
        "# bi-variate normal\n",
        "mu = np.array([1, 2])\n",
        "cov = np.array([\n",
        "    [1, 0],\n",
        "    [0, 5]\n",
        "])\n",
        "X = rng.multivariate_normal(mu, cov, size = 1000).T\n",
        "X.shape # d x n"
      ],
      "metadata": {
        "id": "c8TC0ZcjP7dj",
        "colab": {
          "base_uri": "https://localhost:8080/"
        },
        "outputId": "77a99de0-de86-4e29-c5e2-b215a1157368"
      },
      "execution_count": null,
      "outputs": [
        {
          "output_type": "execute_result",
          "data": {
            "text/plain": [
              "(2, 1000)"
            ]
          },
          "metadata": {},
          "execution_count": 64
        }
      ]
    },
    {
      "cell_type": "markdown",
      "source": [
        "### Plotting: Scatter plot\n",
        "\n",
        "Visualise the sample using a scatter plot. Try to zoom out of the plot and see what the shape of the distribution looks like. Change the values of the covariance matrix and observe how the shape changes."
      ],
      "metadata": {
        "id": "_VCj2JaXQJB0"
      }
    },
    {
      "cell_type": "code",
      "source": [
        "plt.scatter(X[0, :], X[1, :])\n",
        "plt.axis('equal');"
      ],
      "metadata": {
        "id": "w6RX5CApZ1X3",
        "colab": {
          "base_uri": "https://localhost:8080/",
          "height": 447
        },
        "outputId": "cae1e816-7d2e-4a20-a837-00e541a4237a"
      },
      "execution_count": null,
      "outputs": [
        {
          "output_type": "execute_result",
          "data": {
            "text/plain": [
              "(-2.67695982581525, 5.708057910439911, -5.568402511330789, 8.870745335523443)"
            ]
          },
          "metadata": {},
          "execution_count": 68
        },
        {
          "output_type": "display_data",
          "data": {
            "text/plain": [
              "<Figure size 640x480 with 1 Axes>"
            ],
            "image/png": "[encoded data removed]"
          },
          "metadata": {}
        }
      ]
    },
    {
      "cell_type": "markdown",
      "source": [
        "### Estimating the sample covariance matrix\n",
        "\n",
        "Estimate the sample covaraince matrix using the above data. See how close it is to the population covariance matrix.\n",
        "\n",
        "\n",
        "$$\n",
        "C = \\cfrac{1}{n} \\sum (x_i - \\mu_i) (x_i - \\mu_i)^T\n",
        "$$"
      ],
      "metadata": {
        "id": "6Czyp8syaPSq"
      }
    },
    {
      "cell_type": "code",
      "source": [
        "# Center the dataset\n",
        "# mean\n",
        "mu = X.mean(axis = 1) # mean along the columns\n",
        "# mean subtraction\n",
        "X = X - mu.reshape(2, 1)\n",
        "X.mean(axis = 1)"
      ],
      "metadata": {
        "id": "fvmuvNBWQTqP",
        "colab": {
          "base_uri": "https://localhost:8080/"
        },
        "outputId": "436c4b4c-ea74-4e84-a30b-2962b6cec4fe"
      },
      "execution_count": null,
      "outputs": [
        {
          "output_type": "execute_result",
          "data": {
            "text/plain": [
              "array([-2.30371278e-17, -4.56301663e-17])"
            ]
          },
          "metadata": {},
          "execution_count": 75
        }
      ]
    },
    {
      "cell_type": "code",
      "source": [
        "# Sample covariance\n",
        "d, n = X.shape\n",
        "C = X @ X.T / n\n",
        "C"
      ],
      "metadata": {
        "colab": {
          "base_uri": "https://localhost:8080/"
        },
        "id": "by3zzYtmgotK",
        "outputId": "11a242c7-61d6-45f8-d551-723f44a54e82"
      },
      "execution_count": null,
      "outputs": [
        {
          "output_type": "execute_result",
          "data": {
            "text/plain": [
              "array([[ 1.0211785 , -0.08677038],\n",
              "       [-0.08677038,  5.25780768]])"
            ]
          },
          "metadata": {},
          "execution_count": 79
        }
      ]
    },
    {
      "cell_type": "code",
      "source": [
        "np.linalg.norm(C - cov)"
      ],
      "metadata": {
        "colab": {
          "base_uri": "https://localhost:8080/"
        },
        "id": "PmCuSaUEg2iS",
        "outputId": "ccc29ee5-95d8-4228-b3ae-00a6a1e9b63d"
      },
      "execution_count": null,
      "outputs": [
        {
          "output_type": "execute_result",
          "data": {
            "text/plain": [
              "0.2863066973935711"
            ]
          },
          "metadata": {},
          "execution_count": 81
        }
      ]
    },
    {
      "cell_type": "markdown",
      "source": [
        "## GMM\n",
        "\n",
        "Draw $1,000,000$ samples from a Gaussian Mixture Model (GMM) that has three components, with mixture probabilities $[0.2, 0.3, 0.5]$ and means $[-10, 0, 10]$. The standard deviation of all three Gaussians is the same and is equal to $1$. Visualise the samples using a histogram."
      ],
      "metadata": {
        "id": "sw2r6QPGF4qr"
      }
    },
    {
      "cell_type": "code",
      "source": [
        "# First choose the component\n",
        "# Generate a point from the chosen component"
      ],
      "metadata": {
        "id": "HkAo6FxLFOK3"
      },
      "execution_count": null,
      "outputs": []
    },
    {
      "cell_type": "code",
      "source": [
        "# Step-1\n",
        "n = 1_000_000\n",
        "comp = rng.choice([0, 1, 2], p = [0.2, 0.3, 0.5], size = n)"
      ],
      "metadata": {
        "id": "HfQbLSPxiEit"
      },
      "execution_count": null,
      "outputs": []
    },
    {
      "cell_type": "code",
      "source": [
        "# Step-2\n",
        "mu = [0, 3, 5]\n",
        "X = np.zeros(n)\n",
        "for i, c in enumerate(comp):\n",
        "    X[i] = rng.normal(mu[c], 1)\n",
        "X.shape"
      ],
      "metadata": {
        "colab": {
          "base_uri": "https://localhost:8080/"
        },
        "id": "Iwe5LyxDigra",
        "outputId": "96ef4782-8ad9-4ea7-abab-c99b582bf39c"
      },
      "execution_count": null,
      "outputs": [
        {
          "output_type": "execute_result",
          "data": {
            "text/plain": [
              "(1000000,)"
            ]
          },
          "metadata": {},
          "execution_count": 96
        }
      ]
    },
    {
      "cell_type": "code",
      "source": [
        "plt.hist(X, edgecolor = 'black', bins = 1000);"
      ],
      "metadata": {
        "colab": {
          "base_uri": "https://localhost:8080/",
          "height": 430
        },
        "id": "mxlQaRe4i-_g",
        "outputId": "2eaea94f-2a92-4485-e602-128a89d16471"
      },
      "execution_count": null,
      "outputs": [
        {
          "output_type": "display_data",
          "data": {
            "text/plain": [
              "<Figure size 640x480 with 1 Axes>"
            ],
            "image/png": "[encoded data removed]"
          },
          "metadata": {}
        }
      ]
    }
  ]
}