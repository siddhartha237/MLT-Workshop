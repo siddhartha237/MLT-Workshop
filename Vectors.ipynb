{
  "nbformat": 4,
  "nbformat_minor": 0,
  "metadata": {
    "colab": {
      "provenance": [],
      "include_colab_link": true
    },
    "kernelspec": {
      "name": "python3",
      "display_name": "Python 3"
    },
    "language_info": {
      "name": "python"
    }
  },
  "cells": [
    {
      "cell_type": "markdown",
      "metadata": {
        "id": "view-in-github",
        "colab_type": "text"
      },
      "source": [
        "<a href=\"https://colab.research.google.com/github/siddhartha237/MLT-Workshop/blob/main/Vectors.ipynb\" target=\"_parent\"><img src=\"https://colab.research.google.com/assets/colab-badge.svg\" alt=\"Open In Colab\"/></a>"
      ]
    },
    {
      "cell_type": "markdown",
      "source": [
        "# Vectors\n",
        "\n"
      ],
      "metadata": {
        "id": "H729Vxqsdh5_"
      }
    },
    {
      "cell_type": "markdown",
      "source": [
        "## Import\n",
        "\n",
        "First we shall import the `NumPy` package."
      ],
      "metadata": {
        "id": "B1cOisjsIQWW"
      }
    },
    {
      "cell_type": "code",
      "source": [
        "import numpy as np # alias"
      ],
      "metadata": {
        "id": "9BmIfrx3IXZz"
      },
      "execution_count": null,
      "outputs": []
    },
    {
      "cell_type": "markdown",
      "source": [
        "## Python Lists\n",
        "\n",
        "Consider the following vectors:\n",
        "\n",
        "$$\n",
        "\\mathbf{x} = \\begin{bmatrix}\n",
        "1\\\\\n",
        "2\\\\\n",
        "3\n",
        "\\end{bmatrix}, \\mathbf{y} = \\begin{bmatrix}\n",
        "4\\\\\n",
        "5\\\\\n",
        "6\n",
        "\\end{bmatrix}\n",
        "$$\n",
        "\n",
        "We can add these two vectors:\n",
        "\n",
        "$$\n",
        "\\mathbf{z} = \\mathbf{x} + \\mathbf{y}= \\begin{bmatrix}\n",
        "5\\\\\n",
        "7\\\\\n",
        "9\n",
        "\\end{bmatrix}\n",
        "$$\n",
        "\n",
        "Using Python lists:"
      ],
      "metadata": {
        "id": "q4Bvo6cKbRjQ"
      }
    },
    {
      "cell_type": "code",
      "source": [
        "# native Python\n",
        "x = [1, 2, 3]\n",
        "y = [4, 5, 6]\n",
        "z = [ ]\n",
        "for i in range(3):\n",
        "    z.append(x[i] + y[i])\n",
        "print(z)"
      ],
      "metadata": {
        "id": "iBA567DMbkvS",
        "colab": {
          "base_uri": "https://localhost:8080/"
        },
        "outputId": "44f2efee-cc9e-4c70-ed57-3badb9a1462c"
      },
      "execution_count": null,
      "outputs": [
        {
          "output_type": "stream",
          "name": "stdout",
          "text": [
            "[5, 7, 9]\n"
          ]
        }
      ]
    },
    {
      "cell_type": "markdown",
      "source": [
        "## Vectors as `NumPy` arrays\n",
        "\n",
        "Consider the following vector:\n",
        "\n",
        "$$\n",
        "\\mathbf{x} = \\begin{bmatrix}\n",
        "1\\\\\n",
        "2\\\\\n",
        "3\n",
        "\\end{bmatrix}\n",
        "$$\n",
        "\n",
        "In `NumPy`:"
      ],
      "metadata": {
        "id": "JvcADsvgIZE3"
      }
    },
    {
      "cell_type": "code",
      "source": [
        "x = np.array([1, 2, 3])\n",
        "print(x)"
      ],
      "metadata": {
        "id": "83iQmusSIstp",
        "colab": {
          "base_uri": "https://localhost:8080/"
        },
        "outputId": "c249a23d-61cc-43ed-8b7f-dbf4fb10a9ec"
      },
      "execution_count": null,
      "outputs": [
        {
          "output_type": "stream",
          "name": "stdout",
          "text": [
            "[1 2 3]\n"
          ]
        }
      ]
    },
    {
      "cell_type": "markdown",
      "source": [
        "## Vector addition\n",
        "\n",
        "Addition is one of the elementary operations that can be performed on vectors. Given two vectors\n",
        "\n",
        "$$\n",
        "\\mathbf{x} = \\begin{bmatrix}\n",
        "1\\\\\n",
        "2\\\\\n",
        "3\n",
        "\\end{bmatrix}, \\mathbf{y} = \\begin{bmatrix}\n",
        "4\\\\\n",
        "5\\\\\n",
        "6\n",
        "\\end{bmatrix}\n",
        "$$\n",
        "\n",
        "we have:\n",
        "\n",
        "$$\n",
        "\\mathbf{z} = \\mathbf{x} + \\mathbf{y}= \\begin{bmatrix}\n",
        "5\\\\\n",
        "7\\\\\n",
        "9\n",
        "\\end{bmatrix}\n",
        "$$"
      ],
      "metadata": {
        "id": "j-1J_2tTKeFn"
      }
    },
    {
      "cell_type": "code",
      "source": [
        "x = np.array([1, 2, 3])\n",
        "y = np.array([4, 5, 6])\n",
        "z = x + y\n",
        "print(z)\n",
        "# NumPy is very close to mathematics"
      ],
      "metadata": {
        "id": "1Pxa2ZGULiq9",
        "colab": {
          "base_uri": "https://localhost:8080/"
        },
        "outputId": "2386bf22-c615-437d-ed59-9ef4e8b452f5"
      },
      "execution_count": null,
      "outputs": [
        {
          "output_type": "stream",
          "name": "stdout",
          "text": [
            "[5 7 9]\n"
          ]
        }
      ]
    },
    {
      "cell_type": "markdown",
      "source": [
        "## Element-wise multiplication\n",
        "\n",
        "Element-wise multiplication of two vectors is called the Hadamard product. The operator corresponding to it is $\\odot$. For example, given two vectors:\n",
        "\n",
        "$$\n",
        "\\mathbf{x} = \\begin{bmatrix}\n",
        "1\\\\\n",
        "2\\\\\n",
        "3\n",
        "\\end{bmatrix}, \\mathbf{y} = \\begin{bmatrix}\n",
        "4\\\\\n",
        "5\\\\\n",
        "6\n",
        "\\end{bmatrix}\n",
        "$$\n",
        "\n",
        "we have:\n",
        "\n",
        "$$\n",
        "\\mathbf{z} = \\mathbf{x} \\odot \\mathbf{y}= \\begin{bmatrix}\n",
        "4\\\\\n",
        "10\\\\\n",
        "18\n",
        "\\end{bmatrix}\n",
        "$$\n",
        "\n",
        "In `NumPy`:"
      ],
      "metadata": {
        "id": "ap_Zg_CEL9lz"
      }
    },
    {
      "cell_type": "code",
      "source": [
        "x = np.array([1, 2, 3])\n",
        "y = np.array([4, 5, 6])\n",
        "z = x * y\n",
        "z"
      ],
      "metadata": {
        "id": "2v9T-dLrMX8l",
        "colab": {
          "base_uri": "https://localhost:8080/"
        },
        "outputId": "cd771bc2-9031-4195-ef14-c81b026de108"
      },
      "execution_count": null,
      "outputs": [
        {
          "output_type": "execute_result",
          "data": {
            "text/plain": [
              "array([ 4, 10, 18])"
            ]
          },
          "metadata": {},
          "execution_count": 13
        }
      ]
    },
    {
      "cell_type": "markdown",
      "source": [
        "## Scaling vectors\n",
        "\n",
        "If $\\mathbf{x}$ is a vector, scaling it by a constant $k$ is equivalent to element-wise multiplication by $k$. For example, given\n",
        "\n",
        "$$\n",
        "\\mathbf{x} = \\begin{bmatrix}\n",
        "1\\\\\n",
        "2\\\\\n",
        "3\n",
        "\\end{bmatrix}\n",
        "$$\n",
        "\n",
        "we have:\n",
        "\n",
        "$$\n",
        "\\mathbf{y} = 3 \\mathbf{x} = \\begin{bmatrix}\n",
        "3\\\\\n",
        "6\\\\\n",
        "9\n",
        "\\end{bmatrix}\n",
        "$$\n",
        "\n",
        "In `NumPy`:"
      ],
      "metadata": {
        "id": "Fp6OJRQZMjoW"
      }
    },
    {
      "cell_type": "code",
      "source": [
        "x = np.array([1, 2, 3])\n",
        "y = 3 * x # broadcasting\n",
        "y"
      ],
      "metadata": {
        "id": "NQGQmZZFM7_z",
        "colab": {
          "base_uri": "https://localhost:8080/"
        },
        "outputId": "a4f4a58b-7745-4229-bb58-33a1ba1386e0"
      },
      "execution_count": null,
      "outputs": [
        {
          "output_type": "execute_result",
          "data": {
            "text/plain": [
              "array([3, 6, 9])"
            ]
          },
          "metadata": {},
          "execution_count": 14
        }
      ]
    },
    {
      "cell_type": "markdown",
      "source": [
        "## Element-wise functions of vectors\n",
        "\n",
        "Scaling a vector $\\mathbf{x}$ by a constant $k$ can be seen as the outcome of the function $f(x) = kx$ applied element-wise:\n",
        "\n",
        "$$\n",
        "\\begin{bmatrix}\n",
        "f(x_1)\\\\\n",
        "\\vdots\\\\\n",
        "f(x_d)\n",
        "\\end{bmatrix} = \\begin{bmatrix}\n",
        "kx_1\\\\\n",
        "\\vdots\\\\\n",
        "k x_d\n",
        "\\end{bmatrix}\n",
        "$$\n",
        "\n",
        "`NumPy` extends this feature for any arbitrary function."
      ],
      "metadata": {
        "id": "6U2ERkN5NCPe"
      }
    },
    {
      "cell_type": "markdown",
      "source": [
        "### Example-1\n",
        "\n",
        "For example, consider the function $f(x) = x^2$. This can be applied element-wise:\n",
        "\n",
        "$$\n",
        "\\begin{bmatrix}\n",
        "x_1^2\\\\\n",
        "\\vdots\\\\\n",
        "x_d^2\n",
        "\\end{bmatrix}\n",
        "$$\n",
        "\n",
        "Let us do this for:\n",
        "\n",
        "$$\n",
        "\\begin{bmatrix}\n",
        "1\\\\\n",
        "2\\\\\n",
        "3\\\\\n",
        "4\n",
        "\\end{bmatrix}\n",
        "$$\n",
        "\n",
        "In `NumPy`:"
      ],
      "metadata": {
        "id": "jRqHYiLSXLt3"
      }
    },
    {
      "cell_type": "code",
      "source": [
        "x = np.array([1, 2, 3, 4])\n",
        "x ** 2"
      ],
      "metadata": {
        "id": "4J5S44ynN0GR",
        "colab": {
          "base_uri": "https://localhost:8080/"
        },
        "outputId": "bac7d65b-ed44-40f2-8975-78964815e943"
      },
      "execution_count": null,
      "outputs": [
        {
          "output_type": "execute_result",
          "data": {
            "text/plain": [
              "array([ 1,  4,  9, 16])"
            ]
          },
          "metadata": {},
          "execution_count": 15
        }
      ]
    },
    {
      "cell_type": "markdown",
      "source": [
        "### Example-2.1\n",
        "\n",
        "As another example, consider $f(x) = \\log(x)$. This can also be applied element-wise:\n",
        "\n",
        "$$\n",
        "\\begin{bmatrix}\n",
        "\\log(x_1)\\\\\n",
        "\\vdots\\\\\n",
        "\\log(x_d)\n",
        "\\end{bmatrix}\n",
        "$$\n",
        "\n",
        "Let us do this for $\\begin{bmatrix}1 & 10 & 100 & 1000 & 10000 & 100000\\end{bmatrix}^T$. Use base $10$.\n",
        "\n",
        "In `NumPy`:"
      ],
      "metadata": {
        "id": "Vyz1dWlhW3_G"
      }
    },
    {
      "cell_type": "code",
      "source": [
        "x = np.array([1, 10, 1_000, 10_000, 100_000])\n",
        "np.log10(x)"
      ],
      "metadata": {
        "id": "jbQ6mp1QN-dG",
        "colab": {
          "base_uri": "https://localhost:8080/"
        },
        "outputId": "a5a52a52-1209-43a6-d1fc-9d881c96143d"
      },
      "execution_count": null,
      "outputs": [
        {
          "output_type": "execute_result",
          "data": {
            "text/plain": [
              "array([0., 1., 3., 4., 5.])"
            ]
          },
          "metadata": {},
          "execution_count": 20
        }
      ]
    },
    {
      "cell_type": "code",
      "source": [
        "1_000 == 1000 # _ is equivalent to , (1_000 -> 1,000)"
      ],
      "metadata": {
        "colab": {
          "base_uri": "https://localhost:8080/"
        },
        "id": "YMdYPJRBVeOv",
        "outputId": "85fb2936-219b-43a8-edea-68c3c1c1e84f"
      },
      "execution_count": null,
      "outputs": [
        {
          "output_type": "execute_result",
          "data": {
            "text/plain": [
              "True"
            ]
          },
          "metadata": {},
          "execution_count": 17
        }
      ]
    },
    {
      "cell_type": "markdown",
      "source": [
        "### Example 2.2\n",
        "\n",
        "We can also use log to the base $e$, the natural logarithm. For this, let us take a specific vector:\n",
        "\n",
        "$$\n",
        "\\mathbf{x} = \\begin{bmatrix}\n",
        "1\\\\\n",
        "e\\\\\n",
        "e^2\\\\\n",
        "e^3\n",
        "\\end{bmatrix}\n",
        "$$\n",
        "\n",
        "and apply the function $f(x) = \\ln(x)$ element-wise.\n",
        "\n",
        "In `NumPy`:"
      ],
      "metadata": {
        "id": "Oxn-V4AWYMbr"
      }
    },
    {
      "cell_type": "code",
      "source": [
        "x = np.array([1, np.e, np.e ** 2, np.e ** 3])\n",
        "np.log(x)"
      ],
      "metadata": {
        "id": "mmA2S3bVyLDg",
        "colab": {
          "base_uri": "https://localhost:8080/"
        },
        "outputId": "18a01bf3-8f47-430a-f956-e8d4aed9105f"
      },
      "execution_count": null,
      "outputs": [
        {
          "output_type": "execute_result",
          "data": {
            "text/plain": [
              "array([0., 1., 2., 3.])"
            ]
          },
          "metadata": {},
          "execution_count": 24
        }
      ]
    },
    {
      "cell_type": "code",
      "source": [
        "np.log # method in numpy"
      ],
      "metadata": {
        "id": "bmTgF5R3WTJ-"
      },
      "execution_count": null,
      "outputs": []
    },
    {
      "cell_type": "code",
      "source": [
        "np.log?"
      ],
      "metadata": {
        "id": "p5nC-UhoWXje"
      },
      "execution_count": null,
      "outputs": []
    },
    {
      "cell_type": "code",
      "source": [
        "np.e, np.pi"
      ],
      "metadata": {
        "colab": {
          "base_uri": "https://localhost:8080/"
        },
        "id": "MQO-AAQRWH6G",
        "outputId": "9b444909-80f9-4d4d-c355-c3efb278f72a"
      },
      "execution_count": null,
      "outputs": [
        {
          "output_type": "execute_result",
          "data": {
            "text/plain": [
              "(2.718281828459045, 3.141592653589793)"
            ]
          },
          "metadata": {},
          "execution_count": 22
        }
      ]
    },
    {
      "cell_type": "markdown",
      "source": [
        "### Example 3\n",
        "\n",
        "Just as we can scale a vector, we can also add a constant to each component. This is equivalent to applying the element-wise function $f(x) = x + c$. Let us take the case of $\\begin{bmatrix}1 & 2 & 3\\end{bmatrix}^T$ and $c = 5$.\n",
        "\n",
        "In `NumPy`:"
      ],
      "metadata": {
        "id": "CLZ6acXdZDzJ"
      }
    },
    {
      "cell_type": "code",
      "source": [
        "x = np.array([1, 2, 3])\n",
        "c = 5 # (5, 5, 5) + (1, 2, 3) -> broadcasting\n",
        "x + c"
      ],
      "metadata": {
        "id": "BHsoW6jvmQF1",
        "colab": {
          "base_uri": "https://localhost:8080/"
        },
        "outputId": "5359971f-9f0f-4af5-f70c-d48b3fabd58e"
      },
      "execution_count": null,
      "outputs": [
        {
          "output_type": "execute_result",
          "data": {
            "text/plain": [
              "array([6, 7, 8])"
            ]
          },
          "metadata": {},
          "execution_count": 25
        }
      ]
    },
    {
      "cell_type": "markdown",
      "source": [
        "### Example 4\n",
        "\n",
        "Now for a slightly more involved example with $f(x) = 5x - 2$ applied element-wise on the following vector:\n",
        "\n",
        "$$\n",
        "\\mathbf{x} = \\begin{bmatrix}\n",
        "-1\\\\\n",
        "0\\\\\n",
        "1\\\\\n",
        "2\n",
        "\\end{bmatrix}\n",
        "$$\n",
        "\n",
        "In `NumPy`:"
      ],
      "metadata": {
        "id": "TTTvqeYxZw0O"
      }
    },
    {
      "cell_type": "code",
      "source": [
        "x = np.array([-1, 0, 1, 2])\n",
        "5 * x - 2 # operator precedence -> native Python"
      ],
      "metadata": {
        "id": "-E8n9MT-aBYj",
        "colab": {
          "base_uri": "https://localhost:8080/"
        },
        "outputId": "514b1862-2aa2-4208-8910-bb4350b0aa18"
      },
      "execution_count": null,
      "outputs": [
        {
          "output_type": "execute_result",
          "data": {
            "text/plain": [
              "array([-7, -2,  3,  8])"
            ]
          },
          "metadata": {},
          "execution_count": 26
        }
      ]
    },
    {
      "cell_type": "markdown",
      "source": [
        "## Dot Product\n",
        "\n",
        "The dot product between two vectors $\\mathbf{x}$ and $\\mathbf{y}$ is given as follows:\n",
        "\n",
        "$$\n",
        "z = \\mathbf{x}^T \\mathbf{y} =  \\mathbf{x} \\cdot \\mathbf{y} = \\sum \\limits_{j = 1}^{m} x_j y_j\n",
        "$$\n",
        "\n",
        "Let us use the following vectors:\n",
        "\n",
        "$$\n",
        "\\mathbf{x} = \\begin{bmatrix}\n",
        "1\\\\\n",
        "2\\\\\n",
        "3\\\\\n",
        "4\\\\\n",
        "\\end{bmatrix}, \\mathbf{y} = \\begin{bmatrix}\n",
        "-4\\\\\n",
        "-5\\\\\n",
        "-6\\\\\n",
        "-7\\\\\n",
        "\\end{bmatrix}\n",
        "$$\n",
        "\n",
        "In `NumPy`:"
      ],
      "metadata": {
        "id": "kQR9yS5ROhFR"
      }
    },
    {
      "cell_type": "code",
      "source": [
        "x = np.array([1, 2, 3, 4])\n",
        "y = np.array([-4, -5, -6, -7])\n",
        "np.dot(x, y)"
      ],
      "metadata": {
        "id": "yIdGkJG_OxrL",
        "colab": {
          "base_uri": "https://localhost:8080/"
        },
        "outputId": "c88a81ac-d7ee-40cb-d75f-a65ab8cceaf4"
      },
      "execution_count": null,
      "outputs": [
        {
          "output_type": "execute_result",
          "data": {
            "text/plain": [
              "-60"
            ]
          },
          "metadata": {},
          "execution_count": 28
        }
      ]
    },
    {
      "cell_type": "markdown",
      "source": [
        "Alternatively, we can do the following."
      ],
      "metadata": {
        "id": "R0DRM3FAX8uE"
      }
    },
    {
      "cell_type": "code",
      "source": [
        "x @ y"
      ],
      "metadata": {
        "id": "3KrXBo29zg14",
        "colab": {
          "base_uri": "https://localhost:8080/"
        },
        "outputId": "2953915a-79a7-499f-c49d-ee05adf9fc05"
      },
      "execution_count": null,
      "outputs": [
        {
          "output_type": "execute_result",
          "data": {
            "text/plain": [
              "-60"
            ]
          },
          "metadata": {},
          "execution_count": 29
        }
      ]
    },
    {
      "cell_type": "code",
      "source": [
        "x.T @ y"
      ],
      "metadata": {
        "colab": {
          "base_uri": "https://localhost:8080/"
        },
        "id": "Ophs9LEnYjBA",
        "outputId": "6c6f1411-517e-48d3-9555-c5e82eff95ff"
      },
      "execution_count": null,
      "outputs": [
        {
          "output_type": "execute_result",
          "data": {
            "text/plain": [
              "-60"
            ]
          },
          "metadata": {},
          "execution_count": 30
        }
      ]
    },
    {
      "cell_type": "markdown",
      "source": [
        "Since this resembles the mathematical expression quite accurately, we shall stick to this."
      ],
      "metadata": {
        "id": "Q6_Mc49be9SP"
      }
    },
    {
      "cell_type": "markdown",
      "source": [
        "## Vector of zeros or ones\n",
        "\n",
        "On many occassions, we might want to create a `NumPy` array all of whose elements are zeros or ones or some other constant. Let us create the following vectors:\n",
        "\n",
        "$$\n",
        "\\mathbf{0} = \\begin{bmatrix}\n",
        "0\\\\\n",
        "0\\\\\n",
        "0\\\\\n",
        "0\\\\\n",
        "0\n",
        "\\end{bmatrix}, \\mathbf{1} = \\begin{bmatrix}\n",
        "1\\\\\n",
        "1\\\\\n",
        "1\\\\\n",
        "1\\\\\n",
        "1\n",
        "\\end{bmatrix}\n",
        "$$\n",
        "\n",
        "In `NumPy`:"
      ],
      "metadata": {
        "id": "-oGTCbqVRqUj"
      }
    },
    {
      "cell_type": "code",
      "source": [
        "zeros = np.zeros(5)\n",
        "zeros"
      ],
      "metadata": {
        "id": "4i6VbthkT36F",
        "colab": {
          "base_uri": "https://localhost:8080/"
        },
        "outputId": "3c0caf19-6124-4c2b-fb8a-c8407c4245ef"
      },
      "execution_count": null,
      "outputs": [
        {
          "output_type": "execute_result",
          "data": {
            "text/plain": [
              "array([0., 0., 0., 0., 0.])"
            ]
          },
          "metadata": {},
          "execution_count": 31
        }
      ]
    },
    {
      "cell_type": "code",
      "source": [
        "ones = np.ones(5)\n",
        "ones"
      ],
      "metadata": {
        "id": "LtTV0YVOz_Dh",
        "colab": {
          "base_uri": "https://localhost:8080/"
        },
        "outputId": "182ce0a2-cac2-4ffe-faea-f3b17955c78e"
      },
      "execution_count": null,
      "outputs": [
        {
          "output_type": "execute_result",
          "data": {
            "text/plain": [
              "array([1., 1., 1., 1., 1.])"
            ]
          },
          "metadata": {},
          "execution_count": 32
        }
      ]
    },
    {
      "cell_type": "markdown",
      "source": [
        "What if we wanted to create a vector all of whose elements are equal to $5$?"
      ],
      "metadata": {
        "id": "KwAXANsqb3dO"
      }
    },
    {
      "cell_type": "code",
      "source": [
        "np.ones(5) * 5"
      ],
      "metadata": {
        "id": "qVKkJ3Cgb8e9",
        "colab": {
          "base_uri": "https://localhost:8080/"
        },
        "outputId": "348b5a8e-0a70-490d-a348-32bb772eb6d8"
      },
      "execution_count": null,
      "outputs": [
        {
          "output_type": "execute_result",
          "data": {
            "text/plain": [
              "array([5., 5., 5., 5., 5.])"
            ]
          },
          "metadata": {},
          "execution_count": 33
        }
      ]
    },
    {
      "cell_type": "markdown",
      "source": [
        "## Range\n",
        "\n",
        "Sometimes we might want to create a sequence of integers such as:\n",
        "\n",
        "$$\n",
        "[1 \\quad 2 \\quad 3 \\quad 4 \\quad 5]\n",
        "$$"
      ],
      "metadata": {
        "id": "sUyw2fsPk2OO"
      }
    },
    {
      "cell_type": "code",
      "source": [
        "np.arange(1, 6)"
      ],
      "metadata": {
        "id": "tVrjdLDxlC77",
        "colab": {
          "base_uri": "https://localhost:8080/"
        },
        "outputId": "447fa641-e2e1-40e9-c538-b171c543f65e"
      },
      "execution_count": null,
      "outputs": [
        {
          "output_type": "execute_result",
          "data": {
            "text/plain": [
              "array([1, 2, 3, 4, 5])"
            ]
          },
          "metadata": {},
          "execution_count": 35
        }
      ]
    },
    {
      "cell_type": "code",
      "source": [
        "np.arange?"
      ],
      "metadata": {
        "id": "1cKCI8b2Zfaj"
      },
      "execution_count": null,
      "outputs": []
    },
    {
      "cell_type": "code",
      "source": [
        "np.arange(0, 6, 0.5)"
      ],
      "metadata": {
        "colab": {
          "base_uri": "https://localhost:8080/"
        },
        "id": "7IFkxOs8ZkUv",
        "outputId": "a5788c93-2c65-48e1-a493-9fd27a3331df"
      },
      "execution_count": null,
      "outputs": [
        {
          "output_type": "execute_result",
          "data": {
            "text/plain": [
              "array([0. , 0.5, 1. , 1.5, 2. , 2.5, 3. , 3.5, 4. , 4.5, 5. , 5.5])"
            ]
          },
          "metadata": {},
          "execution_count": 37
        }
      ]
    },
    {
      "cell_type": "markdown",
      "source": [
        "## Norm of a vector\n",
        "\n",
        "For a vector $\\mathbf{x}$:\n",
        "\n",
        "$$\n",
        "\\mathbf{x} = \\begin{bmatrix}\n",
        "1\\\\\n",
        "2\\\\\n",
        "3\n",
        "\\end{bmatrix}\n",
        "$$\n",
        "\n",
        "The $L_2$ norm is defind as:\n",
        "\n",
        "$$\n",
        "||\\mathbf{x}||_2 = \\sqrt{1^2 + 2^2 + 3^2} = \\sqrt{14}\n",
        "$$\n",
        "\n",
        "The $L_1$ norm is defind as:\n",
        "\n",
        "$$\n",
        "||\\mathbf{x}||_1 = |1| + |2| + |3| = 6\n",
        "$$\n",
        "\n",
        "In `NumPy`:"
      ],
      "metadata": {
        "id": "vLcLxgyZGAt5"
      }
    },
    {
      "cell_type": "code",
      "source": [
        "x = np.array([1, 2, 3])\n",
        "np.linalg.norm(x) # Euclidean distance of x from (0,0,0)"
      ],
      "metadata": {
        "id": "5hiasmwYk-JK",
        "colab": {
          "base_uri": "https://localhost:8080/"
        },
        "outputId": "464806d7-489a-4919-e001-2fba83348f01"
      },
      "execution_count": null,
      "outputs": [
        {
          "output_type": "execute_result",
          "data": {
            "text/plain": [
              "3.7416573867739413"
            ]
          },
          "metadata": {},
          "execution_count": 41
        }
      ]
    },
    {
      "cell_type": "markdown",
      "source": [
        "By default, the norm computed is the L2 norm. If we want to compute the L1 norm, we have to pass an additional argument to the function."
      ],
      "metadata": {
        "id": "RsHxZQiXfTPz"
      }
    },
    {
      "cell_type": "code",
      "source": [
        "np.linalg.norm(x, ord = 1) # Lasso regression"
      ],
      "metadata": {
        "id": "6IuN8JM_fbUh",
        "colab": {
          "base_uri": "https://localhost:8080/"
        },
        "outputId": "5e322629-1e67-4d56-ae08-ecde15edd643"
      },
      "execution_count": null,
      "outputs": [
        {
          "output_type": "execute_result",
          "data": {
            "text/plain": [
              "6.0"
            ]
          },
          "metadata": {},
          "execution_count": 43
        }
      ]
    },
    {
      "cell_type": "code",
      "source": [
        "np.linalg.norm?"
      ],
      "metadata": {
        "id": "rEO4KdafaTpk"
      },
      "execution_count": null,
      "outputs": []
    },
    {
      "cell_type": "markdown",
      "source": [
        "## Shape, dimension and size of a vector\n",
        "\n",
        "Vectors are \"one dimensional\" arrays. So all vectors in `NumPy` have array-dimension equal to one. The term \"array-dimension\" here is defined for a `NumPy` array. It is different from the dimension used in the vector-space sense. The vector-space dimension can be obtaind by looking at the shape of the `NumPy` array. Let us explore these two ideas for:\n",
        "\n",
        "$$\n",
        "\\mathbf{x} = \\begin{bmatrix}\n",
        "1\\\\\n",
        "2\\\\\n",
        "3\\\\\n",
        "4\n",
        "\\end{bmatrix}\n",
        "$$"
      ],
      "metadata": {
        "id": "OGdzUtRAy6_g"
      }
    },
    {
      "cell_type": "code",
      "source": [
        "x = np.array([1, 2, 3, 4])\n",
        "x.ndim"
      ],
      "metadata": {
        "id": "Hs0Y5qRLzkXY",
        "colab": {
          "base_uri": "https://localhost:8080/"
        },
        "outputId": "8229f8ac-0cf6-4743-b81a-086ee4b0bf02"
      },
      "execution_count": null,
      "outputs": [
        {
          "output_type": "execute_result",
          "data": {
            "text/plain": [
              "1"
            ]
          },
          "metadata": {},
          "execution_count": 45
        }
      ]
    },
    {
      "cell_type": "markdown",
      "source": [
        "In math, $x$ lives in $\\mathbb{R}^{4}$. We call this four-dimensional space."
      ],
      "metadata": {
        "id": "t8V811Pxa2m5"
      }
    },
    {
      "cell_type": "code",
      "source": [
        "x.shape"
      ],
      "metadata": {
        "colab": {
          "base_uri": "https://localhost:8080/"
        },
        "id": "34zmMSsXbJq7",
        "outputId": "48710520-577b-422d-edd0-71ace9fb27c8"
      },
      "execution_count": null,
      "outputs": [
        {
          "output_type": "execute_result",
          "data": {
            "text/plain": [
              "tuple"
            ]
          },
          "metadata": {},
          "execution_count": 48
        }
      ]
    },
    {
      "cell_type": "code",
      "source": [
        "x.size?"
      ],
      "metadata": {
        "id": "T27YNLzSbZhe"
      },
      "execution_count": null,
      "outputs": []
    }
  ]
}